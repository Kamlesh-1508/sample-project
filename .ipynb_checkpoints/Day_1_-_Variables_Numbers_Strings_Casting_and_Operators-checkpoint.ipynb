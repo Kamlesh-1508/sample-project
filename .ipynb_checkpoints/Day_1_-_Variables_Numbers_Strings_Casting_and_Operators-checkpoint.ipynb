{
 "cells": [
  {
   "cell_type": "markdown",
   "metadata": {},
   "source": [
    "# About Python "
   ]
  },
  {
   "cell_type": "markdown",
   "metadata": {},
   "source": [
    "### Python is one of those rare languages which can claim to be both simple and powerful. You will find yourself pleasantly surprised to see how easy it is to concentrate on the solution to the problem rather than the syntax and structure of the language you are programming in"
   ]
  },
  {
   "cell_type": "code",
   "execution_count": 45,
   "metadata": {},
   "outputs": [],
   "source": [
    "# Contents\n",
    "\n",
    "# 1. Getting Started\n",
    "# 2. Variables\n",
    "# 3. Numbers\n",
    "# 4. Strings\n",
    "# 5. Casting\n",
    "# 6. Operators"
   ]
  },
  {
   "cell_type": "markdown",
   "metadata": {},
   "source": [
    "## 1. Getting started:\n",
    "    a. Hello World\n",
    "    b. Input\n",
    "    c. Comments"
   ]
  },
  {
   "cell_type": "markdown",
   "metadata": {},
   "source": [
    "#### a. Hello World!\n",
    "    Lets print out 'Hello World!'\n",
    "    When getting started with any language it has become a convention to start with this particular code. "
   ]
  },
  {
   "cell_type": "code",
   "execution_count": 3,
   "metadata": {},
   "outputs": [
    {
     "name": "stdout",
     "output_type": "stream",
     "text": [
      "Hello codesession\n"
     ]
    }
   ],
   "source": [
    "print('Hello codesession')\n"
   ]
  },
  {
   "cell_type": "code",
   "execution_count": 17,
   "metadata": {},
   "outputs": [
    {
     "name": "stdout",
     "output_type": "stream",
     "text": [
      "wellcome to codesesson Academy\n"
     ]
    }
   ],
   "source": [
    "print(\"wellcome to codesesson Academy\")"
   ]
  },
  {
   "cell_type": "code",
   "execution_count": null,
   "metadata": {},
   "outputs": [],
   "source": []
  },
  {
   "cell_type": "markdown",
   "metadata": {},
   "source": [
    "#### b. Input - input()"
   ]
  },
  {
   "cell_type": "code",
   "execution_count": 15,
   "metadata": {},
   "outputs": [
    {
     "name": "stdout",
     "output_type": "stream",
     "text": [
      "enter your name : sanju\n",
      "enter a number : 3435454\n",
      "sanju 3435454\n",
      "sanju3435454\n",
      "<class 'str'>\n"
     ]
    }
   ],
   "source": [
    "name = input(\"enter your name : \")\n",
    "number = input(\"enter a number : \")\n",
    "print(name,number)\n",
    "print(name+number)\n",
    "print(type(number))"
   ]
  },
  {
   "cell_type": "code",
   "execution_count": 7,
   "metadata": {},
   "outputs": [
    {
     "name": "stdout",
     "output_type": "stream",
     "text": [
      "sasdhsfd\n"
     ]
    }
   ],
   "source": [
    "'''atridhfjkdgf'''\n",
    "print(\"sasdhsfd\")"
   ]
  },
  {
   "cell_type": "code",
   "execution_count": 13,
   "metadata": {},
   "outputs": [
    {
     "name": "stdout",
     "output_type": "stream",
     "text": [
      "sasads 10dsf\n"
     ]
    }
   ],
   "source": [
    "x= \"10\"+\"dsf\"\n",
    "'''prinfds'''\n",
    "print(\"sasads\",x)"
   ]
  },
  {
   "cell_type": "code",
   "execution_count": 17,
   "metadata": {
    "scrolled": true
   },
   "outputs": [
    {
     "name": "stdout",
     "output_type": "stream",
     "text": [
      "Enter your age: 21\n",
      "your age is  21\n"
     ]
    }
   ],
   "source": [
    "x=input(\"Enter your age: \") #taking input from the user\n",
    "print(\"your age is \",x)"
   ]
  },
  {
   "cell_type": "markdown",
   "metadata": {},
   "source": [
    "#### c. Comments"
   ]
  },
  {
   "cell_type": "code",
   "execution_count": 15,
   "metadata": {},
   "outputs": [],
   "source": [
    "# This is a comment"
   ]
  },
  {
   "cell_type": "code",
   "execution_count": 18,
   "metadata": {},
   "outputs": [
    {
     "name": "stdout",
     "output_type": "stream",
     "text": [
      "21\n"
     ]
    }
   ],
   "source": [
    "'''x=hello world'''\n",
    "print(x)"
   ]
  },
  {
   "cell_type": "code",
   "execution_count": 6,
   "metadata": {},
   "outputs": [],
   "source": [
    "# Multi line strings\n",
    "\n",
    "'''Python will ignore string literals that are not assigned to a variable,\n",
    "you can add a multiline string (triple quotes) in your code,\n",
    "and place you comment inside it:'''\n",
    "\n",
    "x  = '''hello\n",
    "world'''"
   ]
  },
  {
   "cell_type": "code",
   "execution_count": 2,
   "metadata": {},
   "outputs": [
    {
     "name": "stdout",
     "output_type": "stream",
     "text": [
      "python is a object orinted programming langauge\n"
     ]
    }
   ],
   "source": [
    "x =  \"python is a object orinted programming langauge\"\n",
    "\n",
    "print(x)"
   ]
  },
  {
   "cell_type": "markdown",
   "metadata": {},
   "source": [
    "## 2. Variables\n",
    "    a. Variable Names\n",
    "    b. Basic Datatypes"
   ]
  },
  {
   "cell_type": "code",
   "execution_count": 3,
   "metadata": {},
   "outputs": [
    {
     "data": {
      "text/plain": [
       "'hi hello world'"
      ]
     },
     "execution_count": 3,
     "metadata": {},
     "output_type": "execute_result"
    }
   ],
   "source": [
    "x = 20\n",
    "type(x)      \n",
    "'hi hello world'\n",
    "\n",
    "# y = 'Aditya'\n",
    "# print(type(y))"
   ]
  },
  {
   "cell_type": "code",
   "execution_count": 4,
   "metadata": {},
   "outputs": [
    {
     "name": "stdout",
     "output_type": "stream",
     "text": [
      "<class 'complex'>\n"
     ]
    }
   ],
   "source": [
    "x = 1 + 2j\n",
    "print(type(x))"
   ]
  },
  {
   "cell_type": "code",
   "execution_count": 5,
   "metadata": {},
   "outputs": [
    {
     "data": {
      "text/plain": [
       "bool"
      ]
     },
     "execution_count": 5,
     "metadata": {},
     "output_type": "execute_result"
    }
   ],
   "source": [
    "a = True\n",
    "type(a)"
   ]
  },
  {
   "cell_type": "markdown",
   "metadata": {},
   "source": [
    "#### a. Variable Names\n",
    "\n",
    "A variable can have a short name (like x and y) or a more descriptive name (age, car_name, total_volume).\n",
    "\n",
    "Rules for Python variables:\n",
    "\n",
    "    A variable name must start with a letter or the underscore character\n",
    "\n",
    "    A variable name cannot start with a number\n",
    "\n",
    "    A variable name can only contain alpha-numeric characters and underscores (A-z, 0-9, and _ )\n",
    "\n",
    "    Variable names are case-sensitive (age, Age and AGE are three different variables)"
   ]
  },
  {
   "cell_type": "code",
   "execution_count": 5,
   "metadata": {},
   "outputs": [
    {
     "name": "stdout",
     "output_type": "stream",
     "text": [
      "10 , 20 , 30\n"
     ]
    }
   ],
   "source": [
    "age = 10\n",
    "Age = 20\n",
    "AGE = 30\n",
    "print(age,',',Age,',',AGE)"
   ]
  },
  {
   "cell_type": "code",
   "execution_count": 34,
   "metadata": {},
   "outputs": [
    {
     "name": "stdout",
     "output_type": "stream",
     "text": [
      "90\n"
     ]
    }
   ],
   "source": [
    "a = 20\n",
    "b = 30\n",
    "c = 40\n",
    "x=a+b+c\n",
    "print(x)"
   ]
  },
  {
   "cell_type": "code",
   "execution_count": 47,
   "metadata": {},
   "outputs": [
    {
     "name": "stdout",
     "output_type": "stream",
     "text": [
      "enter number 1:21\n",
      "enter number 2 :21\n",
      "enter number 3 :21\n",
      "<class 'int'>\n",
      "<class 'str'>\n",
      "42\n",
      "<class 'int'>\n"
     ]
    }
   ],
   "source": [
    "number_1 = input(\"enter number 1:\")\n",
    "number_2 = input(\"enter number 2 :\")\n",
    "number_3 = input(\"enter number 3 :\")\n",
    "\n",
    "number=int(number_1)\n",
    "number1 = int(number_2)\n",
    "print(type(number))\n",
    "print(type(number_3))\n",
    "x=number+number1\n",
    "\n",
    "print(x)\n",
    "print(type(x))\n"
   ]
  },
  {
   "cell_type": "code",
   "execution_count": 28,
   "metadata": {},
   "outputs": [
    {
     "name": "stdout",
     "output_type": "stream",
     "text": [
      "sanju , Banana , Cherry , apple\n"
     ]
    }
   ],
   "source": [
    "# Multiple Assigning\n",
    "\n",
    "a, b, c,D = \"Orange\",\"Banana\" ,\"Cherry\",\"apple\"\n",
    "y = 'pinapple'\n",
    "z = \"order\"\n",
    "a = 'sanju'\n",
    "\n",
    "\n",
    "print(a,',', b,',',c,',',D)\n",
    "# print(y)\n",
    "# print(z)\n"
   ]
  },
  {
   "cell_type": "code",
   "execution_count": 31,
   "metadata": {},
   "outputs": [
    {
     "name": "stdout",
     "output_type": "stream",
     "text": [
      "nitin Sanju\n"
     ]
    }
   ],
   "source": [
    "b = \"Sanju\"\n",
    "a = \"nitin\"\n",
    "print(a,b)"
   ]
  },
  {
   "cell_type": "code",
   "execution_count": 15,
   "metadata": {},
   "outputs": [
    {
     "name": "stdout",
     "output_type": "stream",
     "text": [
      "sanju\n"
     ]
    }
   ],
   "source": [
    "_sanu = \"sanju\"\n",
    "print(_sanu)"
   ]
  },
  {
   "cell_type": "code",
   "execution_count": 42,
   "metadata": {},
   "outputs": [
    {
     "name": "stdout",
     "output_type": "stream",
     "text": [
      "orangeorangeorange\n",
      "orange\n",
      "orange\n"
     ]
    }
   ],
   "source": [
    "# Assigning same value to multiple variables\n",
    "\n",
    "x = y = z = \"orange\"\n",
    "print(x+y+z)\n",
    "print(y)\n",
    "print(z)"
   ]
  },
  {
   "cell_type": "code",
   "execution_count": 17,
   "metadata": {},
   "outputs": [
    {
     "name": "stdout",
     "output_type": "stream",
     "text": [
      "the sum is 20\n"
     ]
    }
   ],
   "source": [
    "# + operator\n",
    "x = 17\n",
    "y = 3\n",
    "c = (x+y)\n",
    "print(\"the sum is\",c)"
   ]
  },
  {
   "cell_type": "code",
   "execution_count": 20,
   "metadata": {},
   "outputs": [
    {
     "name": "stdout",
     "output_type": "stream",
     "text": [
      "32333.0\n"
     ]
    }
   ],
   "source": [
    "a = 32133\n",
    "b = 200.0\n",
    "c = a+b\n",
    "print(c)\n"
   ]
  },
  {
   "cell_type": "code",
   "execution_count": 22,
   "metadata": {},
   "outputs": [
    {
     "name": "stdout",
     "output_type": "stream",
     "text": [
      "Hi How are you? \n"
     ]
    }
   ],
   "source": [
    "x = \"Hi \"\n",
    "y = \"How \"\n",
    "z = \"are \"\n",
    "w = \"you? \"\n",
    "a = x+y+z+w\n",
    "print(a)"
   ]
  },
  {
   "cell_type": "code",
   "execution_count": 36,
   "metadata": {},
   "outputs": [
    {
     "name": "stdout",
     "output_type": "stream",
     "text": [
      "1020\n"
     ]
    }
   ],
   "source": [
    "a = '10'\n",
    "b = '20'\n",
    "print(a+b)"
   ]
  },
  {
   "cell_type": "code",
   "execution_count": 5,
   "metadata": {},
   "outputs": [
    {
     "name": "stdout",
     "output_type": "stream",
     "text": [
      "Python is awesome\n"
     ]
    }
   ],
   "source": [
    "# for strings, + works as a combining operator\n",
    "\n",
    "x = \"Python is \"\n",
    "y = \"awesome\"\n",
    "z =  x + y\n",
    "print(x + y)"
   ]
  },
  {
   "cell_type": "code",
   "execution_count": 55,
   "metadata": {
    "scrolled": true
   },
   "outputs": [
    {
     "name": "stdout",
     "output_type": "stream",
     "text": [
      "15\n"
     ]
    }
   ],
   "source": [
    "# for numbers, + works as an addition operator\n",
    "\n",
    "x = 5\n",
    "y = 10\n",
    "print(x + y)"
   ]
  },
  {
   "cell_type": "code",
   "execution_count": 27,
   "metadata": {},
   "outputs": [
    {
     "name": "stdout",
     "output_type": "stream",
     "text": [
      "<class 'NoneType'>\n"
     ]
    }
   ],
   "source": [
    "x = None\n",
    "y = None\n",
    "\n",
    "print(type(x))\n"
   ]
  },
  {
   "cell_type": "markdown",
   "metadata": {},
   "source": [
    "#### b. Basic Datatypes"
   ]
  },
  {
   "cell_type": "code",
   "execution_count": 41,
   "metadata": {},
   "outputs": [
    {
     "name": "stdout",
     "output_type": "stream",
     "text": [
      "0\n",
      "<class 'int'>\n",
      "<class 'complex'>\n",
      "<class 'int'>\n",
      "<class 'float'>\n",
      "<class 'complex'>\n",
      "<class 'bool'>\n",
      "<class 'int'>\n"
     ]
    }
   ],
   "source": [
    "# Basic Datatypes:\n",
    "\n",
    "a = 323\n",
    "b = 232\n",
    "c = 10.52\n",
    "h = complex(a,b)\n",
    "d = 10 + 20j\n",
    "e = False    #In case boolean datatype you have to start with capital case\n",
    "print(int(e))\n",
    "f = -3232\n",
    "print(type(a))\n",
    "print(type(h))\n",
    "print(type(b))\n",
    "print(type(c))\n",
    "print(type(d))\n",
    "print(type(e))\n",
    "print(type(f))"
   ]
  },
  {
   "cell_type": "code",
   "execution_count": 49,
   "metadata": {},
   "outputs": [
    {
     "name": "stdout",
     "output_type": "stream",
     "text": [
      "(212646+323j) <class 'complex'>\n",
      "25747.3 <class 'float'>\n"
     ]
    }
   ],
   "source": [
    "a = 212212\n",
    "b =434+323j\n",
    "c = a+b\n",
    "print(c,type(c))\n",
    "\n",
    "e = 2323\n",
    "f = 23424.3\n",
    "g = e+f\n",
    "print(g,(g))"
   ]
  },
  {
   "cell_type": "code",
   "execution_count": 5,
   "metadata": {},
   "outputs": [
    {
     "name": "stdout",
     "output_type": "stream",
     "text": [
      "1020True\n"
     ]
    }
   ],
   "source": [
    "a = \"10\"\n",
    "b = \"20\" \n",
    "c= \"True\"\n",
    "d = a+b+c\n",
    "print(d)"
   ]
  },
  {
   "cell_type": "markdown",
   "metadata": {},
   "source": [
    "## 3. Numbers\n",
    "    a. int\n",
    "    b. float\n",
    "    c. complex"
   ]
  },
  {
   "cell_type": "code",
   "execution_count": 7,
   "metadata": {},
   "outputs": [
    {
     "name": "stdout",
     "output_type": "stream",
     "text": [
      "<class 'int'>\n",
      "<class 'float'>\n",
      "<class 'complex'>\n"
     ]
    }
   ],
   "source": [
    "'''There are three numeric types in Python:\n",
    "    int, float and complex\n",
    "    Variables of numeric types are created when you assign a value to them'''\n",
    "\n",
    "x = 1    # int\n",
    "y = 2.8  # float\n",
    "z = 1 + 1j   # complex\n",
    "\n",
    "'''To verify the type of any object in Python, use the type() function:'''\n",
    "\n",
    "# type(variable_name)\n",
    "print(type(x))\n",
    "print(type(y))\n",
    "print(type(z))"
   ]
  },
  {
   "cell_type": "markdown",
   "metadata": {},
   "source": [
    "#### a. Integer"
   ]
  },
  {
   "cell_type": "code",
   "execution_count": 16,
   "metadata": {},
   "outputs": [
    {
     "name": "stdout",
     "output_type": "stream",
     "text": [
      "<class 'int'>\n",
      "<class 'int'>\n",
      "<class 'int'>\n"
     ]
    }
   ],
   "source": [
    "'''Integer'''\n",
    "\n",
    "x = 1\n",
    "y = 35656222554887711\n",
    "z = -3255522\n",
    "\n",
    "print(type(x))\n",
    "print(type(y))\n",
    "print(type(z))"
   ]
  },
  {
   "cell_type": "code",
   "execution_count": null,
   "metadata": {},
   "outputs": [],
   "source": [
    " "
   ]
  },
  {
   "cell_type": "markdown",
   "metadata": {},
   "source": [
    "#### b. Float"
   ]
  },
  {
   "cell_type": "code",
   "execution_count": 11,
   "metadata": {},
   "outputs": [
    {
     "name": "stdout",
     "output_type": "stream",
     "text": [
      "<class 'float'>\n",
      "<class 'float'>\n",
      "<class 'float'>\n",
      "35000000.0\n",
      "120000.0\n",
      "-8.77e+101\n",
      "<class 'float'>\n",
      "<class 'float'>\n",
      "<class 'float'>\n"
     ]
    }
   ],
   "source": [
    "'''Float'''\n",
    "\n",
    "x = 1.10\n",
    "y = 1.0\n",
    "z = -35.59\n",
    "\n",
    "print(type(x))\n",
    "print(type(y))\n",
    "print(type(z))\n",
    "\n",
    "'''Float can also be scientific numbers with an \"e\" to indicate the power of 10.'''\n",
    "\n",
    "x = 35e6\n",
    "y = 12e4\n",
    "z = -87.7e100\n",
    "\n",
    "print(x)\n",
    "print(y)\n",
    "print(z)\n",
    "print(type(x))\n",
    "print(type(y))\n",
    "print(type(z))"
   ]
  },
  {
   "cell_type": "markdown",
   "metadata": {},
   "source": [
    "#### c. Complex"
   ]
  },
  {
   "cell_type": "code",
   "execution_count": 11,
   "metadata": {},
   "outputs": [
    {
     "name": "stdout",
     "output_type": "stream",
     "text": [
      "(3+5j) <class 'complex'>\n",
      "5j <class 'complex'>\n",
      "(-0-5j) <class 'complex'>\n",
      "3434.443j <class 'complex'>\n",
      "(3+5j) 5j (-0-5j) 3434.443j\n"
     ]
    }
   ],
   "source": [
    "'''Complex'''\n",
    "'''Complex numbers are written with a \"j\" as the imaginary part'''\n",
    "\n",
    "x = 3+5j\n",
    "y = 5j\n",
    "z = -5j\n",
    "w = 0+3434.443j\n",
    "print(x, type(x))\n",
    "print(y, type(y))\n",
    "print(z, type(z))\n",
    "print(w,type(w))\n",
    "\n",
    "print(x, y, z ,w)"
   ]
  },
  {
   "cell_type": "code",
   "execution_count": 16,
   "metadata": {},
   "outputs": [
    {
     "name": "stdout",
     "output_type": "stream",
     "text": [
      "<class 'bool'>\n"
     ]
    },
    {
     "data": {
      "text/plain": [
       "bool"
      ]
     },
     "execution_count": 16,
     "metadata": {},
     "output_type": "execute_result"
    }
   ],
   "source": [
    "x = False\n",
    "print(type(x))\n",
    "\n",
    "str\n",
    "int\n",
    "float\n",
    "complex\n",
    "bool"
   ]
  },
  {
   "cell_type": "markdown",
   "metadata": {},
   "source": [
    "## 4. Strings\n",
    "    a. Strings\n",
    "    b. Indexing in Strings\n",
    "    c. String Methods/Functions\n",
    "    d. Sring Formatting"
   ]
  },
  {
   "cell_type": "markdown",
   "metadata": {},
   "source": [
    "#### a. Strings"
   ]
  },
  {
   "cell_type": "code",
   "execution_count": 62,
   "metadata": {},
   "outputs": [
    {
     "name": "stdout",
     "output_type": "stream",
     "text": [
      "sanju well\n",
      "come \n",
      "here\n",
      "sannju saini\n",
      "sanju codesession\n"
     ]
    }
   ],
   "source": [
    "'''this is \n",
    "comment section'''\n",
    "a = \"\"\"sanju well\n",
    "come \n",
    "here\"\"\"\n",
    "print(a)\n",
    "\n",
    "b = '''sannju saini'''\n",
    "print(b)\n",
    "str1 = \"sanju codesession\"\n",
    "print(str1)"
   ]
  },
  {
   "cell_type": "code",
   "execution_count": 59,
   "metadata": {},
   "outputs": [
    {
     "name": "stdout",
     "output_type": "stream",
     "text": [
      "welcome to \"codesession academy\"\n"
     ]
    }
   ],
   "source": [
    "'''double quotes use in single quotes'''\n",
    "a = 'welcome to \"codesession academy\"'\n",
    "print(a)"
   ]
  },
  {
   "cell_type": "code",
   "execution_count": 15,
   "metadata": {},
   "outputs": [
    {
     "name": "stdout",
     "output_type": "stream",
     "text": [
      "welcome to 'codesession academy'\n"
     ]
    }
   ],
   "source": [
    "\"\"\"single quotes use inside double quotes\"\"\"\n",
    "b = \"welcome to 'codesession academy'\"\n",
    "print(b)"
   ]
  },
  {
   "cell_type": "code",
   "execution_count": 68,
   "metadata": {},
   "outputs": [
    {
     "name": "stdout",
     "output_type": "stream",
     "text": [
      "hello world \n",
      " sanju it developer\n"
     ]
    }
   ],
   "source": [
    "c = \"hello world \\n sanju it developer\"\n",
    "print(c)"
   ]
  },
  {
   "cell_type": "code",
   "execution_count": 21,
   "metadata": {},
   "outputs": [
    {
     "name": "stdout",
     "output_type": "stream",
     "text": [
      "sanju how are you \\n fine\n"
     ]
    }
   ],
   "source": [
    "#raw string\n",
    "a = r\"sanju how are you \\n fine\"\n",
    "print(a)"
   ]
  },
  {
   "cell_type": "code",
   "execution_count": 79,
   "metadata": {},
   "outputs": [
    {
     "name": "stdout",
     "output_type": "stream",
     "text": [
      "Hi\\jHello\n"
     ]
    }
   ],
   "source": [
    "b = 'Hi\\jHello'\n",
    "print(b)"
   ]
  },
  {
   "cell_type": "code",
   "execution_count": 87,
   "metadata": {},
   "outputs": [
    {
     "name": "stdout",
     "output_type": "stream",
     "text": [
      "''sanj''\n"
     ]
    }
   ],
   "source": [
    "a = \"''sanj''\"\n",
    "print(a)"
   ]
  },
  {
   "cell_type": "code",
   "execution_count": null,
   "metadata": {},
   "outputs": [],
   "source": []
  },
  {
   "cell_type": "code",
   "execution_count": 92,
   "metadata": {},
   "outputs": [
    {
     "name": "stdout",
     "output_type": "stream",
     "text": [
      "hi world\n",
      "hello world\n"
     ]
    }
   ],
   "source": [
    "h = 'hello '\n",
    "h = 'hi'' world'\n",
    "g = \"hello world\"\n",
    "print(h)\n",
    "print(g)"
   ]
  },
  {
   "cell_type": "code",
   "execution_count": 17,
   "metadata": {},
   "outputs": [
    {
     "name": "stdout",
     "output_type": "stream",
     "text": [
      "Hi \n",
      "my\n",
      "name\n",
      "is \n",
      "Aditya\n"
     ]
    }
   ],
   "source": [
    "# Multiline string\n",
    "\n",
    "a = '''Hi \n",
    "my\n",
    "name\n",
    "is \n",
    "Aditya'''\n",
    "\n",
    "print(a)"
   ]
  },
  {
   "cell_type": "markdown",
   "metadata": {},
   "source": [
    "#### b. Indexing in Strings"
   ]
  },
  {
   "cell_type": "code",
   "execution_count": 7,
   "metadata": {},
   "outputs": [
    {
     "name": "stdout",
     "output_type": "stream",
     "text": [
      "14\n",
      "string= hi how are \n",
      "r\n",
      "y\n",
      "range= horo\n"
     ]
    }
   ],
   "source": [
    "# Accessing a letter in a string\n",
    "#index represents the position number of character in string.\n",
    "a = \"hi how are you\"\n",
    "# 123456789  \n",
    "print(len(a))\n",
    "# print(a[11])\n",
    "# print(a[12])\n",
    "# # Substring. Get the characters from position 2 to position 5 (not included):\n",
    "print(\"string=\",a[0:11])\n",
    "print(a[8])\n",
    "print(a[11])\n",
    "# # getting a range of characters\n",
    "print(\"range=\",a[0:14:4])\n",
    "# # [starting_point : ending point : step]\n",
    "# # # step - 2, 3\n",
    "# print(a[::2])\n"
   ]
  },
  {
   "cell_type": "markdown",
   "metadata": {},
   "source": [
    "#### c. String methods/functions\n",
    "    Lets see some of useful methods/functions which can be used on strings"
   ]
  },
  {
   "cell_type": "code",
   "execution_count": 116,
   "metadata": {
    "scrolled": true
   },
   "outputs": [
    {
     "name": "stdout",
     "output_type": "stream",
     "text": [
      "8\n"
     ]
    }
   ],
   "source": [
    "#The len() method returns the length of a string:\n",
    "\n",
    "a = \"Hello hi\"\n",
    "print(len(a))"
   ]
  },
  {
   "cell_type": "code",
   "execution_count": 119,
   "metadata": {},
   "outputs": [
    {
     "name": "stdout",
     "output_type": "stream",
     "text": [
      "hello, world!\n"
     ]
    }
   ],
   "source": [
    "#The lower() method returns the string in lower case:\n",
    "\n",
    "a = \"HELLO, WORLD!\"\n",
    "print(a.lower())"
   ]
  },
  {
   "cell_type": "code",
   "execution_count": 120,
   "metadata": {},
   "outputs": [
    {
     "name": "stdout",
     "output_type": "stream",
     "text": [
      "HELLO, WORLD!\n"
     ]
    }
   ],
   "source": [
    "# The upper() method returns the string in upper case:\n",
    "\n",
    "a = \"hello, world!\"\n",
    "print(a.upper())"
   ]
  },
  {
   "cell_type": "code",
   "execution_count": 124,
   "metadata": {},
   "outputs": [
    {
     "name": "stdout",
     "output_type": "stream",
     "text": [
      "Hello, World!\n"
     ]
    }
   ],
   "source": [
    "# The strip() method removes any whitespace from the beginning or the end:\n",
    "\n",
    "a = \"   Hello, World!   \"\n",
    "print(a.strip())        # returns \"Hello, World!\""
   ]
  },
  {
   "cell_type": "code",
   "execution_count": 130,
   "metadata": {},
   "outputs": [
    {
     "name": "stdout",
     "output_type": "stream",
     "text": [
      "Hello, World!   HI\n"
     ]
    }
   ],
   "source": [
    "a = \"   Hello, World!   \"\n",
    "b = \"HI\"\n",
    "print(a.lstrip()+b)"
   ]
  },
  {
   "cell_type": "code",
   "execution_count": 131,
   "metadata": {},
   "outputs": [
    {
     "name": "stdout",
     "output_type": "stream",
     "text": [
      "sanjusaini\n"
     ]
    }
   ],
   "source": [
    "a = \"sanju\"\n",
    "b = \"saini\"\n",
    "print(a+b)"
   ]
  },
  {
   "cell_type": "code",
   "execution_count": 133,
   "metadata": {
    "scrolled": true
   },
   "outputs": [
    {
     "name": "stdout",
     "output_type": "stream",
     "text": [
      "Hello, codesesssion!, codesesssion, codesesssion\n"
     ]
    }
   ],
   "source": [
    "# The replace() method replaces a string with another string:\n",
    "\n",
    "a = \"Hello, World!, World, World\"\n",
    "print(a.replace(\"World\", \"codesesssion\"))"
   ]
  },
  {
   "cell_type": "code",
   "execution_count": 135,
   "metadata": {},
   "outputs": [
    {
     "name": "stdout",
     "output_type": "stream",
     "text": [
      "['He', '', 'o Wor', 'd!']\n"
     ]
    }
   ],
   "source": [
    "# The split() method splits the string into substrings if it finds instances of the separator:\n",
    "\n",
    "string = 'Hello World!'\n",
    "x = string.split('l')\n",
    "print(x)    # returns ['Hello', ' World!']"
   ]
  },
  {
   "cell_type": "code",
   "execution_count": 136,
   "metadata": {},
   "outputs": [
    {
     "data": {
      "text/plain": [
       "'Hyyy,hello world'"
      ]
     },
     "execution_count": 136,
     "metadata": {},
     "output_type": "execute_result"
    }
   ],
   "source": [
    "# Capitalize():\n",
    "\n",
    "a = 'hyyy,hello world'\n",
    "a.capitalize()"
   ]
  },
  {
   "cell_type": "markdown",
   "metadata": {},
   "source": [
    "#### d. String Formatting\n",
    "    Lets see the various ways of formatting what you print out"
   ]
  },
  {
   "cell_type": "code",
   "execution_count": 14,
   "metadata": {},
   "outputs": [
    {
     "name": "stdout",
     "output_type": "stream",
     "text": [
      "Hii welcome to codesession academy 20 thanks\n",
      "Hyy welcome to codesession academy 20 thanks\n"
     ]
    }
   ],
   "source": [
    "a = \"welcome to codesession academy\"\n",
    "b= 20\n",
    "c= 30\n",
    "print(\"Hii\",a,b,\"thanks\")\n",
    "print(f\"Hyy {a} {b} thanks\")"
   ]
  },
  {
   "cell_type": "code",
   "execution_count": 40,
   "metadata": {},
   "outputs": [
    {
     "name": "stdout",
     "output_type": "stream",
     "text": [
      "This article anju is written in HI 21 \n",
      "codesessoin is live facebook and instagram\n"
     ]
    }
   ],
   "source": [
    "x = \"This article {1} is written in {0} {2} \"\n",
    "print (x.format(\"HI\",\"anju\",21))\n",
    "\n",
    "\n",
    "print(\"codesessoin is live {2} {1} {0}\".format(\"instagram\",\"and\",\"facebook\"))"
   ]
  },
  {
   "cell_type": "code",
   "execution_count": 64,
   "metadata": {},
   "outputs": [
    {
     "name": "stdout",
     "output_type": "stream",
     "text": [
      "<class 'str'>\n",
      "I'm  sanju  10 from codesession  academy\n",
      "Hi how are you\n"
     ]
    }
   ],
   "source": [
    "a='Hi how are you'\n",
    "print(type(a))\n",
    "print(\"I'm  %s  %i from codesession  academy\" %(\"sanju\",10))\n",
    "print(a)"
   ]
  },
  {
   "cell_type": "code",
   "execution_count": 59,
   "metadata": {},
   "outputs": [
    {
     "name": "stdout",
     "output_type": "stream",
     "text": [
      "I'm sanju from codesession hi 10.00\n"
     ]
    }
   ],
   "source": [
    "print(\"I'm %s from %s %s %.2f\" %('sanju','codesession','hi',a))"
   ]
  },
  {
   "cell_type": "code",
   "execution_count": 65,
   "metadata": {},
   "outputs": [
    {
     "name": "stdout",
     "output_type": "stream",
     "text": [
      "I'm sanju from codesession 10 11 \n"
     ]
    }
   ],
   "source": [
    "x, y,z,w = 'sanju', 'codesession' ,10 ,11\n",
    "print(\"I'm %s from %s %s %s \"%(x,y,z,w)) "
   ]
  },
  {
   "cell_type": "code",
   "execution_count": 19,
   "metadata": {},
   "outputs": [
    {
     "name": "stdout",
     "output_type": "stream",
     "text": [
      "My name is codesession\n",
      "My name is \"Academy\"\n"
     ]
    }
   ],
   "source": [
    "print('My name is %s' %'codesession')\n",
    "print('My name is %s' %'\"Academy\"')  #string representation"
   ]
  },
  {
   "cell_type": "code",
   "execution_count": 82,
   "metadata": {},
   "outputs": [
    {
     "name": "stdout",
     "output_type": "stream",
     "text": [
      "<class 'float'>\n",
      "I wrote 32 programs today.\n",
      "I wrote 4.000000 programs today.\n",
      "I wrote 4.57programs today.\n"
     ]
    }
   ],
   "source": [
    "a = 32.2\n",
    "print(type(a))\n",
    "print('I wrote %i programs today.' %a)\n",
    "print('I wrote %f programs today.' %4)\n",
    "print('I wrote %.2fprograms today.' %4.5678)"
   ]
  },
  {
   "cell_type": "markdown",
   "metadata": {},
   "source": [
    "## 5. Casting"
   ]
  },
  {
   "cell_type": "markdown",
   "metadata": {},
   "source": [
    "There may be times when you want to specify a type on to a variable.\n",
    "This can be done with casting. Python is an object-orientated language,\n",
    "and as such it uses classes to define data types, including its primitive types.\n",
    "\n",
    "Casting in python is therefore done using constructor functions:\n",
    "\n",
    "1. int() - constructs an integer number from an integer literal, a float literal (by rounding down to the previous whole number), or a string literal (providing the string represents a whole number).\n",
    "        \n",
    "2. float() - constructs a float number from an integer literal, a float literal or a string literal (providing the string represents a float or an integer).\n",
    "          \n",
    "3. str() - constructs a string from a wide variety of data types, including strings, integer literals and float literals'''"
   ]
  },
  {
   "cell_type": "code",
   "execution_count": 2,
   "metadata": {},
   "outputs": [
    {
     "name": "stdout",
     "output_type": "stream",
     "text": [
      "<class 'str'>\n"
     ]
    },
    {
     "ename": "NameError",
     "evalue": "name 'a' is not defined",
     "output_type": "error",
     "traceback": [
      "\u001b[0;31m---------------------------------------------------------------------------\u001b[0m",
      "\u001b[0;31mNameError\u001b[0m                                 Traceback (most recent call last)",
      "\u001b[0;32m<ipython-input-2-102bbd6f4ae5>\u001b[0m in \u001b[0;36m<module>\u001b[0;34m\u001b[0m\n\u001b[1;32m      1\u001b[0m \u001b[0ma1\u001b[0m \u001b[0;34m=\u001b[0m \u001b[0;34m'10'\u001b[0m\u001b[0;34m\u001b[0m\u001b[0;34m\u001b[0m\u001b[0m\n\u001b[1;32m      2\u001b[0m \u001b[0mprint\u001b[0m\u001b[0;34m(\u001b[0m\u001b[0mtype\u001b[0m\u001b[0;34m(\u001b[0m\u001b[0ma1\u001b[0m\u001b[0;34m)\u001b[0m\u001b[0;34m)\u001b[0m\u001b[0;34m\u001b[0m\u001b[0;34m\u001b[0m\u001b[0m\n\u001b[0;32m----> 3\u001b[0;31m \u001b[0ma\u001b[0m \u001b[0;34m=\u001b[0m \u001b[0mint\u001b[0m\u001b[0;34m(\u001b[0m\u001b[0ma\u001b[0m\u001b[0;34m)\u001b[0m\u001b[0;34m\u001b[0m\u001b[0;34m\u001b[0m\u001b[0m\n\u001b[0m\u001b[1;32m      4\u001b[0m \u001b[0mb\u001b[0m \u001b[0;34m=\u001b[0m \u001b[0;36m20\u001b[0m\u001b[0;34m\u001b[0m\u001b[0;34m\u001b[0m\u001b[0m\n\u001b[1;32m      5\u001b[0m \u001b[0mc\u001b[0m\u001b[0;34m=\u001b[0m\u001b[0;34m(\u001b[0m\u001b[0ma\u001b[0m\u001b[0;34m+\u001b[0m\u001b[0mb\u001b[0m\u001b[0;34m)\u001b[0m\u001b[0;34m\u001b[0m\u001b[0;34m\u001b[0m\u001b[0m\n",
      "\u001b[0;31mNameError\u001b[0m: name 'a' is not defined"
     ]
    }
   ],
   "source": [
    "a1 = '10'\n",
    "print(type(a1))\n",
    "a = int(a)\n",
    "b = 20\n",
    "c=(a+b)\n",
    "print(c)   # Will throw an error"
   ]
  },
  {
   "cell_type": "code",
   "execution_count": 8,
   "metadata": {},
   "outputs": [
    {
     "name": "stdout",
     "output_type": "stream",
     "text": [
      "enter a number : 21\n",
      "21\n",
      "21.0\n"
     ]
    }
   ],
   "source": [
    "x = input(\"enter a number : \")\n",
    "z = int(x)\n",
    "y = float(z)\n",
    "\n",
    "print(x)\n",
    "print(y)"
   ]
  },
  {
   "cell_type": "code",
   "execution_count": 9,
   "metadata": {},
   "outputs": [
    {
     "name": "stdout",
     "output_type": "stream",
     "text": [
      "1\n",
      "2\n",
      "3\n",
      "<class 'int'> \n",
      " <class 'int'> \n",
      " <class 'int'>\n"
     ]
    }
   ],
   "source": [
    "# Integer Casting - int()\n",
    "\n",
    "x = int(1)          # x will be 1\n",
    "y = int(2.8)        # y will be 2\n",
    "z = int(\"3\")        # z will be 3\n",
    "\n",
    "print(x)\n",
    "print(y)\n",
    "print(z)\n",
    "print(type(z),'\\n', type(x),'\\n', type(y))"
   ]
  },
  {
   "cell_type": "code",
   "execution_count": 89,
   "metadata": {},
   "outputs": [
    {
     "name": "stdout",
     "output_type": "stream",
     "text": [
      "1.0 \n",
      " 2.8 \n",
      " 3.0 \n",
      " 4.2\n",
      "<class 'float'> <class 'float'> <class 'float'> <class 'float'>\n"
     ]
    }
   ],
   "source": [
    "# Float Casting - float()\n",
    "\n",
    "x = float(1)        # x will be 1.0\n",
    "y = float(2.8)      # y will be 2.8\n",
    "z = float(\"3\")      # z will be 3.0\n",
    "w = float(\"4.2\")    # w will be 4.2\n",
    "\n",
    "print(x,'\\n',y, '\\n',z,'\\n', w)      # '\\n is used for new line'\n",
    "\n",
    "print(type(x), type(y), type(z), type(w) )"
   ]
  },
  {
   "cell_type": "code",
   "execution_count": 92,
   "metadata": {},
   "outputs": [
    {
     "name": "stdout",
     "output_type": "stream",
     "text": [
      "s1 <class 'str'>\n",
      "2 <class 'str'>\n",
      "3.0 <class 'str'>\n",
      "(1+2j) <class 'str'>\n"
     ]
    }
   ],
   "source": [
    "# String Casting - str()\n",
    "\n",
    "x = str('s1')      # x will be 's1'\n",
    "y = str(2)         # y will be '2'\n",
    "z = str(3.0)       # z will be '3.0'\n",
    "w = str(1 + 2j)\n",
    "\n",
    "print(x, type(x))\n",
    "print(y, type(y))\n",
    "print(z, type(z))\n",
    "print(w,type(w))\n",
    "\n"
   ]
  },
  {
   "cell_type": "markdown",
   "metadata": {},
   "source": [
    "## 6. Operators"
   ]
  },
  {
   "cell_type": "markdown",
   "metadata": {},
   "source": [
    "Python Operators:\n",
    "\n",
    "Operators are used to perform operations on variables and values.\n",
    "\n",
    "Python divides the operators in the following groups:\n",
    "\n",
    "    a. Arithmetic operators\n",
    "    b. Assignment operators\n",
    "    c. Comparison operators\n",
    "    d. Logical operators\n",
    "    e. Identity operators\n",
    "    f. Membership operators"
   ]
  },
  {
   "cell_type": "markdown",
   "metadata": {},
   "source": [
    "#### a. Arithmetic operators\n",
    "    \n",
    "    Arithmetic operators are used with numeric values to perform common mathematical operations:"
   ]
  },
  {
   "cell_type": "code",
   "execution_count": 34,
   "metadata": {},
   "outputs": [
    {
     "name": "stdout",
     "output_type": "stream",
     "text": [
      " enter your first number : 21\n",
      " enter your second number : 3\n",
      "addition of c is = 24  substraction of d is = 18 \n",
      "division of e is = 7.0\n",
      "modules of f is = 0\n",
      "floor division of g is = 7\n",
      " Exponentiation of h is = 9261\n",
      " multiple of 21 and 3 is = 63\n",
      "52.0\n"
     ]
    }
   ],
   "source": [
    "'''\n",
    "+\tAddition\tx + y\t\n",
    "\n",
    "-\tSubtraction\tx - y\t\n",
    "\n",
    "*\tMultiplication\tx * y\t\n",
    "\n",
    "/\tDivision\tx / y\t\n",
    "\n",
    "%\tModulus\tx % y\t\n",
    "\n",
    "**\tExponentiation\tx ** y\t\n",
    "\n",
    "//\tFloor division\tx // y '''\n",
    "\n",
    "number_1 = input(\" enter your first number : \")\n",
    "number_2 = input(\" enter your second number : \")\n",
    "a = int(number_1)\n",
    "b = int(number_2)\n",
    "c=a+b\n",
    "d=a-b\n",
    "e=a/b\n",
    "f=a%b\n",
    "g=a//b\n",
    "h=a**b\n",
    "i = a*b\n",
    "j = 1237.0//23.4\n",
    "print(f\"addition of c is = {c}  substraction of d is = {d} \")\n",
    "print(f\"division of e is = {e}\")\n",
    "print(f\"modules of f is = {f}\")\n",
    "print(f\"floor division of g is = {g}\")\n",
    "print(f\" Exponentiation of h is = {h}\")\n",
    "print(f\" multiple of {a} and {b} is = {i}\")\n",
    "print(j)\n",
    "# print(14*14*14*14*14)\n",
    "# print(c,d,e,f,g,h)"
   ]
  },
  {
   "cell_type": "markdown",
   "metadata": {},
   "source": [
    "#### b. Python Assignment Operators\n",
    "\n",
    "    Assignment operators are used to assign values to variables:"
   ]
  },
  {
   "cell_type": "code",
   "execution_count": 38,
   "metadata": {},
   "outputs": [
    {
     "name": "stdout",
     "output_type": "stream",
     "text": [
      "10 codesession sanju\n"
     ]
    }
   ],
   "source": [
    "'Basic assignment operator is =  '\n",
    "\n",
    "num = 10\n",
    "name = \"codesession\"\n",
    "name1 = \"sanju\"\n",
    "print(f\"{num} {name} {name1}\")"
   ]
  },
  {
   "cell_type": "code",
   "execution_count": 27,
   "metadata": {},
   "outputs": [
    {
     "name": "stdout",
     "output_type": "stream",
     "text": [
      "12\n",
      "24\n",
      "12.0\n"
     ]
    }
   ],
   "source": [
    "''' 1.       =       x = 5       x = 5\n",
    "    2.      +=      x += 5      x = x + 5\n",
    "    3.      -=      x -= 3      x = x - 3\n",
    "    4.      *=      x *= 3      x = x * 3\n",
    "    5.      /=      x /= 3      x = x / 3\n",
    "    6.      %=      x %= 3      x = x % 3\n",
    "    7.      //=     x //= 3     x = x // 3\n",
    "    8.      **=     x **= 3     x = x ** 3\n",
    "\n",
    "Try it out:\n",
    "'''\n",
    "x= 10\n",
    "y =2\n",
    "x += y\n",
    "print(x)\n",
    "x *= y\n",
    "print(x)\n",
    "x /=y\n",
    "print(x)"
   ]
  },
  {
   "cell_type": "markdown",
   "metadata": {},
   "source": [
    "#### c. Python Comparison Operators\n",
    "\n",
    "    Comparison operators are used to compare two values:"
   ]
  },
  {
   "cell_type": "code",
   "execution_count": 28,
   "metadata": {},
   "outputs": [
    {
     "name": "stdout",
     "output_type": "stream",
     "text": [
      "True\n",
      "False\n",
      "True\n",
      "True\n"
     ]
    }
   ],
   "source": [
    "a = 10\n",
    "b = 10\n",
    "\n",
    "'When we say a==b, it is basically asking the question --  is a equal to b?'\n",
    "print(a==b)   \n",
    "print(a!=b)\n",
    "print(a<=b)\n",
    "print(a>=b)"
   ]
  },
  {
   "cell_type": "code",
   "execution_count": 32,
   "metadata": {},
   "outputs": [
    {
     "name": "stdout",
     "output_type": "stream",
     "text": [
      "False\n",
      "True\n",
      "True\n",
      "False\n"
     ]
    }
   ],
   "source": [
    "a = 43434534\n",
    "b = 4243535433453\n",
    "print(a==b)\n",
    "print(a!=b)\n",
    "print(a<=b)\n",
    "print(a>=b)"
   ]
  },
  {
   "cell_type": "code",
   "execution_count": 38,
   "metadata": {},
   "outputs": [
    {
     "name": "stdout",
     "output_type": "stream",
     "text": [
      "\n",
      "\n",
      "False \n",
      "\n",
      "z is greatest\n"
     ]
    }
   ],
   "source": [
    "'''==   \tEqual                       \tx == y\n",
    "\n",
    "   !=   \tNot equal                   \tx != y\n",
    "   \n",
    "   >    \tGreater than                \tx > y\n",
    "   \n",
    "   <    \tLess than                   \tx < y\n",
    "   \n",
    "   >=   \tGreater than or equal to    \tx >= y\n",
    "   \n",
    "   <=   \tLess than or equal to       \tx <= y'''\n",
    "\n",
    "print('\\n')\n",
    "\n",
    "\n",
    "x = 10\n",
    "y = 20\n",
    "z = 30\n",
    "\n",
    "print(x>y,'\\n')\n",
    "\n",
    "'Comparison Operators are mostly used in Conditional Statements'\n",
    "\n",
    "if x>y and x>z :\n",
    "    print('x is greatest')\n",
    "elif y>x and y>z:\n",
    "    print('y is greatest')\n",
    "elif z>x and z>y:\n",
    "    print('z is greatest')"
   ]
  },
  {
   "cell_type": "markdown",
   "metadata": {},
   "source": [
    "#### d. Python Logical Operators\n",
    "\n",
    "    Logical operators are used to combine conditional statements:"
   ]
  },
  {
   "cell_type": "code",
   "execution_count": 19,
   "metadata": {},
   "outputs": [
    {
     "name": "stdout",
     "output_type": "stream",
     "text": [
      "False\n"
     ]
    }
   ],
   "source": [
    "'''and  \tReturns True if both statements are true                    \tx < 5 and  x < 10\n",
    "\n",
    "   or   \tReturns True if one of the statements is true               \tx < 5 or x < 10\n",
    "   \n",
    "   not  \tReverse the result, returns False if the result is true     \tnot(x < 5 and x < 10)'''\n",
    "\n",
    "a = 25\n",
    "b = 20\n",
    "c = 30\n",
    "\n",
    "print (not(a>b or a>c))"
   ]
  },
  {
   "cell_type": "markdown",
   "metadata": {},
   "source": [
    "#### e. Python Identity Operators\n",
    "\n",
    "    Identity operators are used to compare the objects, not if they are equal, but if they are actually the same object, with the same memory location:\n",
    "\n"
   ]
  },
  {
   "cell_type": "code",
   "execution_count": 21,
   "metadata": {},
   "outputs": [
    {
     "name": "stdout",
     "output_type": "stream",
     "text": [
      "False\n",
      "True\n",
      "\n",
      "\n"
     ]
    }
   ],
   "source": [
    "'''is       \tReturns true if both variables are the same object      \tx is y'''\n",
    "\n",
    "x = 10\n",
    "y = 20\n",
    "\n",
    "print(x is y)\n",
    "\n",
    "'''is not   \tReturns true if both variables are not the same object  \tx is not y'''\n",
    "\n",
    "x = 10\n",
    "y = 20\n",
    "print(x is not y)\n",
    "print('\\n')"
   ]
  },
  {
   "cell_type": "markdown",
   "metadata": {},
   "source": [
    "#### f. Python Membership Operators\n",
    "    \n",
    "    Membership operators are used to test if a sequence is presented in an object:"
   ]
  },
  {
   "cell_type": "code",
   "execution_count": 44,
   "metadata": {},
   "outputs": [
    {
     "name": "stdout",
     "output_type": "stream",
     "text": [
      "False\n",
      "\n",
      "\n",
      "False\n",
      "\n",
      "\n"
     ]
    }
   ],
   "source": [
    "'''in       \tReturns True if a sequence with the specified value is present in the object    \tx in y'''\n",
    "\n",
    "l = [1, 2, 3, 4]    # List, will see in collection datatypes\n",
    "e = 5\n",
    "print(e in l)\n",
    "print('\\n')\n",
    "\n",
    "\n",
    "'''not in   \tReturns True if a sequence with the specified value is not present in the object\tx not in y'''\n",
    "\n",
    "l = [1, 2, 3, 4]\n",
    "e = 2\n",
    "print(e not in l)\n",
    "print('\\n')"
   ]
  },
  {
   "cell_type": "code",
   "execution_count": null,
   "metadata": {},
   "outputs": [],
   "source": []
  },
  {
   "cell_type": "code",
   "execution_count": null,
   "metadata": {},
   "outputs": [],
   "source": []
  },
  {
   "cell_type": "code",
   "execution_count": null,
   "metadata": {},
   "outputs": [],
   "source": []
  }
 ],
 "metadata": {
  "hide_input": false,
  "kernelspec": {
   "display_name": "Python 3",
   "language": "python",
   "name": "python3"
  },
  "language_info": {
   "codemirror_mode": {
    "name": "ipython",
    "version": 3
   },
   "file_extension": ".py",
   "mimetype": "text/x-python",
   "name": "python",
   "nbconvert_exporter": "python",
   "pygments_lexer": "ipython3",
   "version": "3.7.3"
  }
 },
 "nbformat": 4,
 "nbformat_minor": 2
}
