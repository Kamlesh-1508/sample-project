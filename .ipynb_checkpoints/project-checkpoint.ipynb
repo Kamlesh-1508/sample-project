{
 "cells": [
  {
   "cell_type": "code",
   "execution_count": 2,
   "metadata": {},
   "outputs": [
    {
     "name": "stdout",
     "output_type": "stream",
     "text": [
      "Hello every one \n"
     ]
    }
   ],
   "source": [
    "# python print function \n",
    "print(\"Hello every one \")"
   ]
  },
  {
   "cell_type": "code",
   "execution_count": 2,
   "metadata": {},
   "outputs": [
    {
     "name": "stdout",
     "output_type": "stream",
     "text": [
      "kamlesh\n"
     ]
    }
   ],
   "source": [
    "# variable :- variable are contaniner for storing data values.\n",
    "a=\"kamlesh\"\n",
    "print(a)"
   ]
  },
  {
   "cell_type": "code",
   "execution_count": 4,
   "metadata": {},
   "outputs": [
    {
     "name": "stdout",
     "output_type": "stream",
     "text": [
      "kamleshkumar\n"
     ]
    }
   ],
   "source": [
    "a=\"kamlesh\"\n",
    "b=\"kumar\"\n",
    "c=a+b\n",
    "print(c)"
   ]
  },
  {
   "cell_type": "code",
   "execution_count": 7,
   "metadata": {},
   "outputs": [
    {
     "name": "stdout",
     "output_type": "stream",
     "text": [
      "5425\n"
     ]
    }
   ],
   "source": [
    "q=\"54\"\n",
    "d=\"25\"\n",
    "a=q+d\n",
    "print(a)"
   ]
  },
  {
   "cell_type": "code",
   "execution_count": 11,
   "metadata": {},
   "outputs": [
    {
     "name": "stdout",
     "output_type": "stream",
     "text": [
      "enter your name:kamlesh\n",
      "your name is:- kamlesh\n"
     ]
    }
   ],
   "source": [
    "# input function in python\n",
    "a=input('enter your name:')\n",
    "print(\"your name is:-\",a)"
   ]
  },
  {
   "cell_type": "code",
   "execution_count": 12,
   "metadata": {},
   "outputs": [
    {
     "name": "stdout",
     "output_type": "stream",
     "text": [
      "enter your frist  number : 25\n",
      "enter your second number : 45\n",
      "your number is :- 2545\n"
     ]
    }
   ],
   "source": [
    "a=input(\"enter your frist  number : \")\n",
    "b=input(\"enter your second number : \")\n",
    "c=a+b\n",
    "print(\"your number is :-\",c)"
   ]
  },
  {
   "cell_type": "code",
   "execution_count": 14,
   "metadata": {},
   "outputs": [
    {
     "name": "stdout",
     "output_type": "stream",
     "text": [
      "enter your frist number : 58\n",
      "enter your second number : 489\n",
      "your number sum is :-  547\n"
     ]
    }
   ],
   "source": [
    "a=int(input('enter your frist number : '))\n",
    "b=int(input('enter your second number : '))\n",
    "c=a+b\n",
    "print(\"your number sum is :- \",c)"
   ]
  },
  {
   "cell_type": "code",
   "execution_count": 17,
   "metadata": {},
   "outputs": [
    {
     "name": "stdout",
     "output_type": "stream",
     "text": [
      "prajapat\n",
      "jaipur\n"
     ]
    }
   ],
   "source": [
    "#multiple assigning variable in python\n",
    "a,b,c,d=\"kamlesh\",\"kumar\",\"prajapat\",\"jaipur\"\n",
    "#print(a)\n",
    "#print(b)\n",
    "print(c)\n",
    "print(d)"
   ]
  },
  {
   "cell_type": "code",
   "execution_count": 20,
   "metadata": {},
   "outputs": [
    {
     "name": "stdout",
     "output_type": "stream",
     "text": [
      "Hello every one\n"
     ]
    }
   ],
   "source": [
    "#single line comment in python use the #tag.\n",
    "print(\"Hello every one\")\n",
    "#print(\"Good morning\")"
   ]
  },
  {
   "cell_type": "code",
   "execution_count": 27,
   "metadata": {},
   "outputs": [
    {
     "name": "stdout",
     "output_type": "stream",
     "text": [
      "Hello World\n"
     ]
    }
   ],
   "source": [
    "# multi line comment in python use the ''' '''.\n",
    "'''\n",
    "Hi \n",
    "how are you\n",
    "i am fine\n",
    "\n",
    "'''\n",
    "print(\"Hello World\")"
   ]
  },
  {
   "cell_type": "code",
   "execution_count": 29,
   "metadata": {},
   "outputs": [
    {
     "name": "stdout",
     "output_type": "stream",
     "text": [
      "Hello every i am' kamlesh kumar prajapat' \n"
     ]
    }
   ],
   "source": [
    "# how to write string in '' in program \n",
    "a=\"Hello every i am' kamlesh kumar prajapat' \"\n",
    "print(a)"
   ]
  },
  {
   "cell_type": "code",
   "execution_count": 31,
   "metadata": {},
   "outputs": [
    {
     "name": "stdout",
     "output_type": "stream",
     "text": [
      "Good morning every \"how are you \"\n"
     ]
    }
   ],
   "source": [
    "# how to write string in \"\" in program\n",
    "a='Good morning every \"how are you \"'\n",
    "print(a)"
   ]
  },
  {
   "cell_type": "code",
   "execution_count": 33,
   "metadata": {},
   "outputs": [
    {
     "name": "stdout",
     "output_type": "stream",
     "text": [
      " Hello guy`s \n",
      "i am kamlesh kumar prajapat\n",
      "i from jaipur in rajasthan (india)\n",
      "\n"
     ]
    }
   ],
   "source": [
    "# how to write in multiline in program.\n",
    "a=''' Hello guy`s \n",
    "i am kamlesh kumar prajapat\n",
    "i from jaipur in rajasthan (india)\n",
    "'''\n",
    "print(a)"
   ]
  },
  {
   "cell_type": "code",
   "execution_count": 35,
   "metadata": {},
   "outputs": [
    {
     "name": "stdout",
     "output_type": "stream",
     "text": [
      "Good morning everyone\n",
      "my name is kamlesh kumar prajapat \n",
      " i from jaipur in rajasthan.\n",
      " i have done diploma in computer secience engg. in 2019 with 68% marks.\n",
      " And with clear B.A in 2019 with 66$ marksfrom rajasthan university.\n",
      " We are seven member in my family.\n",
      " We are three brother and two sister.\n",
      " My father a farmar.\n",
      " Me learn python programing in present time\n",
      "          thank you so much \n",
      "                               date :- 29\u000080\n"
     ]
    }
   ],
   "source": [
    "x=\"\"\"Good morning everyone\n",
    "my name is kamlesh kumar prajapat \n",
    " i from jaipur in rajasthan.\n",
    " i have done diploma in computer secience engg. in 2019 with 68% marks.\n",
    " And with clear B.A in 2019 with 66$ marksfrom rajasthan university.\n",
    " We are seven member in my family.\n",
    " We are three brother and two sister.\n",
    " My father a farmar.\n",
    " Me learn python programing in present time\n",
    "          thank you so much \n",
    "                               date :- 29\\08\\2020\"\"\"\n",
    "print(x)"
   ]
  },
  {
   "cell_type": "code",
   "execution_count": 38,
   "metadata": {},
   "outputs": [
    {
     "name": "stdout",
     "output_type": "stream",
     "text": [
      "Hello everyone \n",
      "i am kamlesh kumar prajapat\n"
     ]
    }
   ],
   "source": [
    "# new line tn program.\n",
    "a=\"Hello everyone \\ni am kamlesh kumar prajapat\"\n",
    "print(a)\n"
   ]
  },
  {
   "cell_type": "code",
   "execution_count": 42,
   "metadata": {},
   "outputs": [
    {
     "name": "stdout",
     "output_type": "stream",
     "text": [
      "Hello every one \n",
      "my name is kamlesh kumar prajapat \n",
      "\ti from jaipur in rajathan.\n"
     ]
    }
   ],
   "source": [
    "# new line and space in programe.\n",
    "a=\"Hello every one \\nmy name is kamlesh kumar prajapat \\n\\ti from jaipur in rajathan.\"\n",
    "print(a)"
   ]
  },
  {
   "cell_type": "code",
   "execution_count": 44,
   "metadata": {},
   "outputs": [
    {
     "name": "stdout",
     "output_type": "stream",
     "text": [
      "hello every \\n one\n"
     ]
    }
   ],
   "source": [
    "# how to use row string in program.\n",
    "a=R\"hello every \\n one\"\n",
    "print(a)"
   ]
  },
  {
   "cell_type": "code",
   "execution_count": 58,
   "metadata": {},
   "outputs": [
    {
     "name": "stdout",
     "output_type": "stream",
     "text": [
      "22\n",
      "e\n"
     ]
    }
   ],
   "source": [
    "#indexing in string :-represent of string value \n",
    "# start index in python in 0123456789\n",
    "a='how are you  i am fine'\n",
    "print(len(a))\n",
    "print(a[21])"
   ]
  },
  {
   "cell_type": "code",
   "execution_count": 60,
   "metadata": {},
   "outputs": [
    {
     "name": "stdout",
     "output_type": "stream",
     "text": [
      "kamlesh kumar prajapat\n"
     ]
    }
   ],
   "source": [
    "#string function\n",
    "#lower function\n",
    "a=\"KAMLESH KUMAR PRAJAPAT\"\n",
    "print(a.lower())"
   ]
  },
  {
   "cell_type": "code",
   "execution_count": 62,
   "metadata": {},
   "outputs": [
    {
     "name": "stdout",
     "output_type": "stream",
     "text": [
      "KAMLESH KUMAR PRAJAPAT\n"
     ]
    }
   ],
   "source": [
    "#upper function\n",
    "a=\"kamlesh kumar prajapat\"\n",
    "print(a.upper())"
   ]
  },
  {
   "cell_type": "code",
   "execution_count": 65,
   "metadata": {},
   "outputs": [
    {
     "name": "stdout",
     "output_type": "stream",
     "text": [
      "['how', 'are', 'you']\n"
     ]
    }
   ],
   "source": [
    "#split function\n",
    "a=\"how are you\"\n",
    "print(a.split())"
   ]
  },
  {
   "cell_type": "code",
   "execution_count": 80,
   "metadata": {},
   "outputs": [
    {
     "name": "stdout",
     "output_type": "stream",
     "text": [
      "i am kamlesh kumar prajapat\n"
     ]
    }
   ],
   "source": [
    "#lsplit function\n",
    "a='i am kamlesh '\n",
    "b='kumar prajapat'\n",
    "print(a.lstrip()+b)"
   ]
  },
  {
   "cell_type": "code",
   "execution_count": 83,
   "metadata": {},
   "outputs": [
    {
     "name": "stdout",
     "output_type": "stream",
     "text": [
      "Good morning how are you\n"
     ]
    }
   ],
   "source": [
    "#replace function\n",
    "a=\"hell boss how are you\"\n",
    "print(a.replace(\"hell boss\",\"Good morning\"))"
   ]
  },
  {
   "cell_type": "code",
   "execution_count": 85,
   "metadata": {},
   "outputs": [
    {
     "name": "stdout",
     "output_type": "stream",
     "text": [
      "['', 'kamlesh ', 'kumar ', 'prjapat']\n"
     ]
    }
   ],
   "source": [
    "#split function\n",
    "a=\"okamlesh okumar oprjapat\"\n",
    "c=a.split(\"o\")\n",
    "print(c)"
   ]
  },
  {
   "cell_type": "code",
   "execution_count": 90,
   "metadata": {},
   "outputs": [
    {
     "data": {
      "text/plain": [
       "'Kamlesh kumar prajapat'"
      ]
     },
     "execution_count": 90,
     "metadata": {},
     "output_type": "execute_result"
    }
   ],
   "source": [
    "#capitalize\n",
    "a=\"kamlesh kumar prajapat\"\n",
    "a.capitalize()"
   ]
  },
  {
   "cell_type": "code",
   "execution_count": 5,
   "metadata": {},
   "outputs": [
    {
     "name": "stdout",
     "output_type": "stream",
     "text": [
      "this  laptop honor name kamlesh  this is work on linux window\n"
     ]
    }
   ],
   "source": [
    "# string formating\n",
    "x=\"this  laptop honor name {1} this is work on {0} {2}\"\n",
    "print(x.format(\"linux\",\"kamlesh \",\"window\"))"
   ]
  },
  {
   "cell_type": "code",
   "execution_count": 8,
   "metadata": {},
   "outputs": [
    {
     "name": "stdout",
     "output_type": "stream",
     "text": [
      "kamlesh kumar is going to Aagra and Dausa\n"
     ]
    }
   ],
   "source": [
    "print(\"kamlesh kumar is going to {} {} {}\".format(\"Aagra\",\"and\",\"Dausa\"))"
   ]
  },
  {
   "cell_type": "code",
   "execution_count": 21,
   "metadata": {},
   "outputs": [
    {
     "name": "stdout",
     "output_type": "stream",
     "text": [
      "i`m kamlesh  kumar form codesisson acadmy my age is 25 and my marks is 90.360000\n"
     ]
    }
   ],
   "source": [
    "print(\"i`m %s %sform codesisson acadmy my age is %i and my marks is %2f\"%(\"kamlesh\",\" kumar \",25 ,90.36))"
   ]
  },
  {
   "cell_type": "code",
   "execution_count": 22,
   "metadata": {},
   "outputs": [
    {
     "name": "stdout",
     "output_type": "stream",
     "text": [
      "Hii i`m kamlesh kumar\n"
     ]
    }
   ],
   "source": [
    "a=\"kamlesh\"\n",
    "print(\"Hii i`m\",a,\"kumar\")"
   ]
  },
  {
   "cell_type": "code",
   "execution_count": 30,
   "metadata": {},
   "outputs": [
    {
     "name": "stdout",
     "output_type": "stream",
     "text": [
      "i`m kamlesh kumar prajapat bhudla\n"
     ]
    }
   ],
   "source": [
    "a,b,c,d,='kamlesh','kumar','prajapat','bhudla'\n",
    "print(\"i`m %s %s %s %s\" %(a,b,c,d))"
   ]
  },
  {
   "cell_type": "code",
   "execution_count": 32,
   "metadata": {},
   "outputs": [
    {
     "name": "stdout",
     "output_type": "stream",
     "text": [
      "my name is kamlesh\n"
     ]
    }
   ],
   "source": [
    "print(\"my name is %s\"%(\"kamlesh\"))"
   ]
  },
  {
   "cell_type": "code",
   "execution_count": 49,
   "metadata": {},
   "outputs": [
    {
     "name": "stdout",
     "output_type": "stream",
     "text": [
      "58\n",
      "20\n",
      "32\n"
     ]
    }
   ],
   "source": [
    "#casting :- change formate\n",
    "#intger casting\n",
    "x=int(58)\n",
    "y=int(20.5)\n",
    "z=int(\"32\")\n",
    "print(x)\n",
    "print(y)\n",
    "print(z)"
   ]
  },
  {
   "cell_type": "code",
   "execution_count": 2,
   "metadata": {},
   "outputs": [
    {
     "name": "stdout",
     "output_type": "stream",
     "text": [
      "25.0 \n",
      " 205.0 \n",
      " 20.32\n"
     ]
    }
   ],
   "source": [
    "#float casting\n",
    "x=float(25)\n",
    "y=float(\"205\")\n",
    "z=float(20.32)\n",
    "print(x,'\\n',y,'\\n',z)"
   ]
  },
  {
   "cell_type": "code",
   "execution_count": 3,
   "metadata": {},
   "outputs": [
    {
     "name": "stdout",
     "output_type": "stream",
     "text": [
      "Please enter the first number: 36\n",
      "Please enter the second number: 36\n",
      "addition 72\n",
      "subtraction 0\n",
      "multiplacation 1296\n",
      "devision 1.0\n",
      "floor devision 1\n",
      "Exponentiation 106387358923716524807713475752456393740167855629859291136\n",
      "modual 0\n"
     ]
    }
   ],
   "source": [
    "#calculater in use Airthmetic opearter \n",
    "'''\n",
    "+     addition        x+y\n",
    "-     subtraction     x-y\n",
    "*     multiplication  x*y\n",
    "/     division        x/y\n",
    "**    Exponentiation  x**y\n",
    "//    floor devision  x//y\n",
    "%     modul           x%y\n",
    "'''\n",
    "\n",
    "number_1 = int(input('Please enter the first number: '))\n",
    "number_2 = int(input('Please enter the second number: '))\n",
    "a=number_1\n",
    "b=number_2\n",
    "c=a+b\n",
    "d=a-b\n",
    "e=a*b\n",
    "f=a/b\n",
    "g=a//b\n",
    "h=a**b\n",
    "i=a%b\n",
    "print(F\"addition {c}\")\n",
    "print(f\"subtraction {d}\")\n",
    "print(f\"multiplacation {e}\")\n",
    "print(f\"devision {f}\")\n",
    "print(f\"floor devision {g}\")\n",
    "print(f\"Exponentiation {h}\")\n",
    "print(f\"modual {i}\")\n",
    " "
   ]
  },
  {
   "cell_type": "code",
   "execution_count": 4,
   "metadata": {},
   "outputs": [
    {
     "name": "stdout",
     "output_type": "stream",
     "text": [
      "kamlesh 544\n"
     ]
    }
   ],
   "source": [
    "# Assignment operator\n",
    "''' 1.       =       x = 5       x = 5\n",
    "    2.      +=      x += 5      x = x + 5\n",
    "    3.      -=      x -= 3      x = x - 3\n",
    "    4.      *=      x *= 3      x = x * 3\n",
    "    5.      /=      x /= 3      x = x / 3\n",
    "    6.      %=      x %= 3      x = x % 3\n",
    "    7.      //=     x //= 3     x = x // 3\n",
    "    8.      **=     x **= 3     x = x ** 3\n",
    "'''\n",
    "a=\"kamlesh\"\n",
    "b=544\n",
    "print(a,b)"
   ]
  },
  {
   "cell_type": "code",
   "execution_count": 5,
   "metadata": {},
   "outputs": [
    {
     "name": "stdout",
     "output_type": "stream",
     "text": [
      "50\n"
     ]
    }
   ],
   "source": [
    "x=5\n",
    "y=45\n",
    "x += y\n",
    "print(x)"
   ]
  },
  {
   "cell_type": "code",
   "execution_count": 7,
   "metadata": {},
   "outputs": [
    {
     "name": "stdout",
     "output_type": "stream",
     "text": [
      "True\n"
     ]
    }
   ],
   "source": [
    "# comparision operator\n",
    "'''==   \tEqual                       \tx == y\n",
    "\n",
    "   !=   \tNot equal                   \tx != y\n",
    "   \n",
    "   >    \tGreater than                \tx > y\n",
    "   \n",
    "   <    \tLess than                   \tx < y\n",
    "   \n",
    "   >=   \tGreater than or equal to    \tx >= y\n",
    "   \n",
    "   <=   \tLess than or equal to       \tx <= y\n",
    "    '''\n",
    "# equal\n",
    "a=5\n",
    "b=5\n",
    "print(a==b)"
   ]
  },
  {
   "cell_type": "code",
   "execution_count": 9,
   "metadata": {},
   "outputs": [
    {
     "name": "stdout",
     "output_type": "stream",
     "text": [
      "False\n"
     ]
    }
   ],
   "source": [
    "# not equal\n",
    "a=5\n",
    "b=5\n",
    "print(a!=b)"
   ]
  },
  {
   "cell_type": "code",
   "execution_count": 10,
   "metadata": {},
   "outputs": [
    {
     "name": "stdout",
     "output_type": "stream",
     "text": [
      "True\n"
     ]
    }
   ],
   "source": [
    "# equal less than\n",
    "a=10\n",
    "b=10\n",
    "print(a<=b)"
   ]
  },
  {
   "cell_type": "code",
   "execution_count": 12,
   "metadata": {},
   "outputs": [
    {
     "name": "stdout",
     "output_type": "stream",
     "text": [
      "False\n"
     ]
    }
   ],
   "source": [
    "#  equal grater than\n",
    "a=2\n",
    "b=5\n",
    "print(a>=b)"
   ]
  },
  {
   "cell_type": "code",
   "execution_count": null,
   "metadata": {},
   "outputs": [],
   "source": []
  }
 ],
 "metadata": {
  "kernelspec": {
   "display_name": "Python 3",
   "language": "python",
   "name": "python3"
  },
  "language_info": {
   "codemirror_mode": {
    "name": "ipython",
    "version": 3
   },
   "file_extension": ".py",
   "mimetype": "text/x-python",
   "name": "python",
   "nbconvert_exporter": "python",
   "pygments_lexer": "ipython3",
   "version": "3.7.3"
  }
 },
 "nbformat": 4,
 "nbformat_minor": 2
}
