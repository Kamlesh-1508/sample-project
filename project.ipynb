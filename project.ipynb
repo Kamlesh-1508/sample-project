{
 "cells": [
  {
   "cell_type": "code",
   "execution_count": 2,
   "metadata": {},
   "outputs": [
    {
     "name": "stdout",
     "output_type": "stream",
     "text": [
      "Hello every one \n"
     ]
    }
   ],
   "source": [
    "# python print function \n",
    "print(\"Hello every one \")"
   ]
  },
  {
   "cell_type": "code",
   "execution_count": 2,
   "metadata": {},
   "outputs": [
    {
     "name": "stdout",
     "output_type": "stream",
     "text": [
      "kamlesh\n"
     ]
    }
   ],
   "source": [
    "# variable :- variable are contaniner for storing data values.\n",
    "a=\"kamlesh\"\n",
    "print(a)"
   ]
  },
  {
   "cell_type": "code",
   "execution_count": 4,
   "metadata": {},
   "outputs": [
    {
     "name": "stdout",
     "output_type": "stream",
     "text": [
      "kamleshkumar\n"
     ]
    }
   ],
   "source": [
    "a=\"kamlesh\"\n",
    "b=\"kumar\"\n",
    "c=a+b\n",
    "print(c)"
   ]
  },
  {
   "cell_type": "code",
   "execution_count": 7,
   "metadata": {},
   "outputs": [
    {
     "name": "stdout",
     "output_type": "stream",
     "text": [
      "5425\n"
     ]
    }
   ],
   "source": [
    "q=\"54\"\n",
    "d=\"25\"\n",
    "a=q+d\n",
    "print(a)"
   ]
  },
  {
   "cell_type": "code",
   "execution_count": 11,
   "metadata": {},
   "outputs": [
    {
     "name": "stdout",
     "output_type": "stream",
     "text": [
      "enter your name:kamlesh\n",
      "your name is:- kamlesh\n"
     ]
    }
   ],
   "source": [
    "# input function in python\n",
    "a=input('enter your name:')\n",
    "print(\"your name is:-\",a)"
   ]
  },
  {
   "cell_type": "code",
   "execution_count": 12,
   "metadata": {},
   "outputs": [
    {
     "name": "stdout",
     "output_type": "stream",
     "text": [
      "enter your frist  number : 25\n",
      "enter your second number : 45\n",
      "your number is :- 2545\n"
     ]
    }
   ],
   "source": [
    "a=input(\"enter your frist  number : \")\n",
    "b=input(\"enter your second number : \")\n",
    "c=a+b\n",
    "print(\"your number is :-\",c)"
   ]
  },
  {
   "cell_type": "code",
   "execution_count": 14,
   "metadata": {},
   "outputs": [
    {
     "name": "stdout",
     "output_type": "stream",
     "text": [
      "enter your frist number : 58\n",
      "enter your second number : 489\n",
      "your number sum is :-  547\n"
     ]
    }
   ],
   "source": [
    "a=int(input('enter your frist number : '))\n",
    "b=int(input('enter your second number : '))\n",
    "c=a+b\n",
    "print(\"your number sum is :- \",c)"
   ]
  },
  {
   "cell_type": "code",
   "execution_count": 17,
   "metadata": {},
   "outputs": [
    {
     "name": "stdout",
     "output_type": "stream",
     "text": [
      "prajapat\n",
      "jaipur\n"
     ]
    }
   ],
   "source": [
    "#multiple assigning variable in python\n",
    "a,b,c,d=\"kamlesh\",\"kumar\",\"prajapat\",\"jaipur\"\n",
    "#print(a)\n",
    "#print(b)\n",
    "print(c)\n",
    "print(d)"
   ]
  },
  {
   "cell_type": "code",
   "execution_count": 20,
   "metadata": {},
   "outputs": [
    {
     "name": "stdout",
     "output_type": "stream",
     "text": [
      "Hello every one\n"
     ]
    }
   ],
   "source": [
    "#single line comment in python use the #tag.\n",
    "print(\"Hello every one\")\n",
    "#print(\"Good morning\")"
   ]
  },
  {
   "cell_type": "code",
   "execution_count": 27,
   "metadata": {},
   "outputs": [
    {
     "name": "stdout",
     "output_type": "stream",
     "text": [
      "Hello World\n"
     ]
    }
   ],
   "source": [
    "# multi line comment in python use the ''' '''.\n",
    "'''\n",
    "Hi \n",
    "how are you\n",
    "i am fine\n",
    "\n",
    "'''\n",
    "print(\"Hello World\")"
   ]
  },
  {
   "cell_type": "code",
   "execution_count": 29,
   "metadata": {},
   "outputs": [
    {
     "name": "stdout",
     "output_type": "stream",
     "text": [
      "Hello every i am' kamlesh kumar prajapat' \n"
     ]
    }
   ],
   "source": [
    "# how to write string in '' in program \n",
    "a=\"Hello every i am' kamlesh kumar prajapat' \"\n",
    "print(a)"
   ]
  },
  {
   "cell_type": "code",
   "execution_count": 31,
   "metadata": {},
   "outputs": [
    {
     "name": "stdout",
     "output_type": "stream",
     "text": [
      "Good morning every \"how are you \"\n"
     ]
    }
   ],
   "source": [
    "# how to write string in \"\" in program\n",
    "a='Good morning every \"how are you \"'\n",
    "print(a)"
   ]
  },
  {
   "cell_type": "code",
   "execution_count": 33,
   "metadata": {},
   "outputs": [
    {
     "name": "stdout",
     "output_type": "stream",
     "text": [
      " Hello guy`s \n",
      "i am kamlesh kumar prajapat\n",
      "i from jaipur in rajasthan (india)\n",
      "\n"
     ]
    }
   ],
   "source": [
    "# how to write in multiline in program.\n",
    "a=''' Hello guy`s \n",
    "i am kamlesh kumar prajapat\n",
    "i from jaipur in rajasthan (india)\n",
    "'''\n",
    "print(a)"
   ]
  },
  {
   "cell_type": "code",
   "execution_count": 35,
   "metadata": {},
   "outputs": [
    {
     "name": "stdout",
     "output_type": "stream",
     "text": [
      "Good morning everyone\n",
      "my name is kamlesh kumar prajapat \n",
      " i from jaipur in rajasthan.\n",
      " i have done diploma in computer secience engg. in 2019 with 68% marks.\n",
      " And with clear B.A in 2019 with 66$ marksfrom rajasthan university.\n",
      " We are seven member in my family.\n",
      " We are three brother and two sister.\n",
      " My father a farmar.\n",
      " Me learn python programing in present time\n",
      "          thank you so much \n",
      "                               date :- 29\u000080\n"
     ]
    }
   ],
   "source": [
    "x=\"\"\"Good morning everyone\n",
    "my name is kamlesh kumar prajapat \n",
    " i from jaipur in rajasthan.\n",
    " i have done diploma in computer secience engg. in 2019 with 68% marks.\n",
    " And with clear B.A in 2019 with 66$ marksfrom rajasthan university.\n",
    " We are seven member in my family.\n",
    " We are three brother and two sister.\n",
    " My father a farmar.\n",
    " Me learn python programing in present time\n",
    "          thank you so much \n",
    "                               date :- 29\\08\\2020\"\"\"\n",
    "print(x)"
   ]
  },
  {
   "cell_type": "code",
   "execution_count": 38,
   "metadata": {},
   "outputs": [
    {
     "name": "stdout",
     "output_type": "stream",
     "text": [
      "Hello everyone \n",
      "i am kamlesh kumar prajapat\n"
     ]
    }
   ],
   "source": [
    "# new line tn program.\n",
    "a=\"Hello everyone \\ni am kamlesh kumar prajapat\"\n",
    "print(a)\n"
   ]
  },
  {
   "cell_type": "code",
   "execution_count": 42,
   "metadata": {},
   "outputs": [
    {
     "name": "stdout",
     "output_type": "stream",
     "text": [
      "Hello every one \n",
      "my name is kamlesh kumar prajapat \n",
      "\ti from jaipur in rajathan.\n"
     ]
    }
   ],
   "source": [
    "# new line and space in programe.\n",
    "a=\"Hello every one \\nmy name is kamlesh kumar prajapat \\n\\ti from jaipur in rajathan.\"\n",
    "print(a)"
   ]
  },
  {
   "cell_type": "code",
   "execution_count": 44,
   "metadata": {},
   "outputs": [
    {
     "name": "stdout",
     "output_type": "stream",
     "text": [
      "hello every \\n one\n"
     ]
    }
   ],
   "source": [
    "# how to use row string in program.\n",
    "a=R\"hello every \\n one\"\n",
    "print(a)"
   ]
  },
  {
   "cell_type": "code",
   "execution_count": 58,
   "metadata": {},
   "outputs": [
    {
     "name": "stdout",
     "output_type": "stream",
     "text": [
      "22\n",
      "e\n"
     ]
    }
   ],
   "source": [
    "#indexing in string :-represent of string value \n",
    "# start index in python in 0123456789\n",
    "a='how are you  i am fine'\n",
    "print(len(a))\n",
    "print(a[21])"
   ]
  },
  {
   "cell_type": "code",
   "execution_count": 60,
   "metadata": {},
   "outputs": [
    {
     "name": "stdout",
     "output_type": "stream",
     "text": [
      "kamlesh kumar prajapat\n"
     ]
    }
   ],
   "source": [
    "#string function\n",
    "#lower function\n",
    "a=\"KAMLESH KUMAR PRAJAPAT\"\n",
    "print(a.lower())"
   ]
  },
  {
   "cell_type": "code",
   "execution_count": 62,
   "metadata": {},
   "outputs": [
    {
     "name": "stdout",
     "output_type": "stream",
     "text": [
      "KAMLESH KUMAR PRAJAPAT\n"
     ]
    }
   ],
   "source": [
    "#upper function\n",
    "a=\"kamlesh kumar prajapat\"\n",
    "print(a.upper())"
   ]
  },
  {
   "cell_type": "code",
   "execution_count": 65,
   "metadata": {},
   "outputs": [
    {
     "name": "stdout",
     "output_type": "stream",
     "text": [
      "['how', 'are', 'you']\n"
     ]
    }
   ],
   "source": [
    "#split function\n",
    "a=\"how are you\"\n",
    "print(a.split())"
   ]
  },
  {
   "cell_type": "code",
   "execution_count": 80,
   "metadata": {},
   "outputs": [
    {
     "name": "stdout",
     "output_type": "stream",
     "text": [
      "i am kamlesh kumar prajapat\n"
     ]
    }
   ],
   "source": [
    "#lsplit function\n",
    "a='i am kamlesh '\n",
    "b='kumar prajapat'\n",
    "print(a.lstrip()+b)"
   ]
  },
  {
   "cell_type": "code",
   "execution_count": 83,
   "metadata": {},
   "outputs": [
    {
     "name": "stdout",
     "output_type": "stream",
     "text": [
      "Good morning how are you\n"
     ]
    }
   ],
   "source": [
    "#replace function\n",
    "a=\"hell boss how are you\"\n",
    "print(a.replace(\"hell boss\",\"Good morning\"))"
   ]
  },
  {
   "cell_type": "code",
   "execution_count": 85,
   "metadata": {},
   "outputs": [
    {
     "name": "stdout",
     "output_type": "stream",
     "text": [
      "['', 'kamlesh ', 'kumar ', 'prjapat']\n"
     ]
    }
   ],
   "source": [
    "#split function\n",
    "a=\"okamlesh okumar oprjapat\"\n",
    "c=a.split(\"o\")\n",
    "print(c)"
   ]
  },
  {
   "cell_type": "code",
   "execution_count": 90,
   "metadata": {},
   "outputs": [
    {
     "data": {
      "text/plain": [
       "'Kamlesh kumar prajapat'"
      ]
     },
     "execution_count": 90,
     "metadata": {},
     "output_type": "execute_result"
    }
   ],
   "source": [
    "#capitalize\n",
    "a=\"kamlesh kumar prajapat\"\n",
    "a.capitalize()"
   ]
  },
  {
   "cell_type": "code",
   "execution_count": null,
   "metadata": {},
   "outputs": [],
   "source": []
  }
 ],
 "metadata": {
  "kernelspec": {
   "display_name": "Python 3",
   "language": "python",
   "name": "python3"
  },
  "language_info": {
   "codemirror_mode": {
    "name": "ipython",
    "version": 3
   },
   "file_extension": ".py",
   "mimetype": "text/x-python",
   "name": "python",
   "nbconvert_exporter": "python",
   "pygments_lexer": "ipython3",
   "version": "3.7.3"
  }
 },
 "nbformat": 4,
 "nbformat_minor": 2
}
